{
  "cells": [
    {
      "cell_type": "code",
      "source": [
        "from google.colab import drive\n",
        "drive.mount('/content/drive')"
      ],
      "metadata": {
        "colab": {
          "base_uri": "https://localhost:8080/"
        },
        "id": "ibCEPxcRmYTp",
        "outputId": "8d2a7496-0fa6-4e7c-de60-32cb2574e173"
      },
      "execution_count": 1,
      "outputs": [
        {
          "output_type": "stream",
          "name": "stdout",
          "text": [
            "Mounted at /content/drive\n"
          ]
        }
      ]
    },
    {
      "cell_type": "code",
      "source": [
        "import tensorflow as tf"
      ],
      "execution_count": 2,
      "outputs": [],
      "metadata": {
        "datalore": {
          "node_id": "1yG6Et0PRo5UR9sfM9QiA2",
          "type": "CODE",
          "hide_input_from_viewers": false,
          "hide_output_from_viewers": false,
          "report_properties": {
            "rowId": "evFmD7yWyTGCkqizX9yhO1"
          }
        },
        "id": "B98_bXDwkfDR"
      }
    },
    {
      "cell_type": "code",
      "source": [
        "# Dummy Model Code\n",
        "\n",
        "our_model = tf.keras.Sequential([tf.keras.layers.Input(shape=(64,)),\n",
        "                                 tf.keras.layers.Dense(1)])"
      ],
      "execution_count": 3,
      "outputs": [],
      "metadata": {
        "datalore": {
          "node_id": "xEmeCYxtvZNqcv5KHCtjUR",
          "type": "CODE",
          "hide_input_from_viewers": false,
          "hide_output_from_viewers": false,
          "report_properties": {
            "rowId": "1Gu0uCTea1YJDPBJoc1tnv"
          }
        },
        "id": "EgndfWWikfDT"
      }
    },
    {
      "cell_type": "code",
      "source": [
        "# Dummy Training Code\n",
        "\n",
        "x_train = tf.random.normal((1024,64), dtype='float32')\n",
        "y_train = tf.cast(tf.random.categorical(tf.math.log([[0.5, 0.5]]), 1024)[0], 'float32')\n",
        "\n",
        "our_model.compile(optimizer='adam', loss=tf.keras.losses.BinaryCrossentropy())\n",
        "\n",
        "our_model.fit(x_train, y_train, epochs=5, batch_size=64)"
      ],
      "execution_count": 4,
      "outputs": [
        {
          "output_type": "stream",
          "name": "stdout",
          "text": [
            "Epoch 1/5\n",
            "16/16 [==============================] - 1s 4ms/step - loss: 6.1650\n",
            "Epoch 2/5\n",
            "16/16 [==============================] - 0s 6ms/step - loss: 6.1003\n",
            "Epoch 3/5\n",
            "16/16 [==============================] - 0s 3ms/step - loss: 6.0698\n",
            "Epoch 4/5\n",
            "16/16 [==============================] - 0s 3ms/step - loss: 6.0284\n",
            "Epoch 5/5\n",
            "16/16 [==============================] - 0s 3ms/step - loss: 5.9805\n"
          ]
        },
        {
          "output_type": "execute_result",
          "data": {
            "text/plain": [
              "<keras.callbacks.History at 0x7fa312ca3400>"
            ]
          },
          "metadata": {},
          "execution_count": 4
        }
      ],
      "metadata": {
        "datalore": {
          "node_id": "ZqKDXmearry4zID9hQflWg",
          "type": "CODE",
          "hide_input_from_viewers": false,
          "hide_output_from_viewers": false,
          "report_properties": {
            "rowId": "22awGJT2dCH2xOQT5DXkxA"
          }
        },
        "colab": {
          "base_uri": "https://localhost:8080/"
        },
        "id": "WDjs226GkfDT",
        "outputId": "b0278b49-40ac-462f-c246-dc0b646b0cb8"
      }
    },
    {
      "cell_type": "code",
      "source": [
        "import os\n",
        "from PIL import Image\n",
        "import numpy as np\n",
        "\n",
        "# Set directory paths\n",
        "real_data_dir = \"/content/drive/MyDrive/Colab Notebooks/Group_Project_Data 2/Group_Project_Data 2 (1)/Group_Project_Data/Train/Real\"\n",
        "fake_data_dir = \"/content/drive/MyDrive/Colab Notebooks/Group_Project_Data 2/Group_Project_Data 2 (1)/Group_Project_Data/Train/Fake\"\n",
        "\n",
        "# Load real images\n",
        "real_images = []\n",
        "if os.path.exists(real_data_dir):\n",
        "    real_files = os.listdir(real_data_dir)\n",
        "    if len(real_files) > 0:\n",
        "        for file in real_files:\n",
        "            if file.endswith(\".jpg\") or file.endswith(\".png\"):  # check if file is an image\n",
        "                img_path = os.path.join(real_data_dir, file)\n",
        "                try:\n",
        "                    img = Image.open(img_path)\n",
        "                    real_images.append(np.array(img))\n",
        "                except:\n",
        "                    print(f\"Error loading image: {img_path}\")\n",
        "            else:\n",
        "                print(f\"Skipping non-image file: {file}\")\n",
        "else:\n",
        "    print(f\"{real_data_dir} does not exist.\")\n",
        "\n",
        "# Load fake images\n",
        "fake_images = []\n",
        "if os.path.exists(fake_data_dir):\n",
        "    fake_files = os.listdir(fake_data_dir)\n",
        "    if len(fake_files) > 0:\n",
        "        for file in fake_files:\n",
        "            if file.endswith(\".jpg\") or file.endswith(\".png\"):  # check if file is an image\n",
        "                img_path = os.path.join(fake_data_dir, file)\n",
        "                try:\n",
        "                    img = Image.open(img_path)\n",
        "                    fake_images.append(np.array(img))\n",
        "                except:\n",
        "                    print(f\"Error loading image: {img_path}\")\n",
        "            else:\n",
        "                print(f\"Skipping non-image file: {file}\")\n",
        "else:\n",
        "    print(f\"{fake_data_dir} does not exist.\")\n",
        "\n",
        "# Concatenate real and fake images\n",
        "images = np.concatenate((real_images, fake_images))"
      ],
      "execution_count": 5,
      "outputs": [
        {
          "output_type": "stream",
          "name": "stdout",
          "text": [
            "Skipping non-image file: .DS_Store\n",
            "Skipping non-image file: .DS_Store\n"
          ]
        }
      ],
      "metadata": {
        "datalore": {
          "node_id": "n056OPintC0cdy296guHIE",
          "type": "CODE",
          "hide_input_from_viewers": true,
          "hide_output_from_viewers": true
        },
        "id": "zhfzGqdDkfDU",
        "outputId": "f1c161ce-c4b4-40e6-9a31-06d167486ac5",
        "colab": {
          "base_uri": "https://localhost:8080/"
        }
      }
    },
    {
      "cell_type": "code",
      "source": [
        "import matplotlib.pyplot as plt\n",
        "\n",
        "\n",
        "# Display a random real image\n",
        "plt.imshow(real_images[np.random.randint(0, len(real_images))])\n",
        "plt.show()"
      ],
      "execution_count": 15,
      "outputs": [
        {
          "output_type": "display_data",
          "data": {
            "text/plain": [
              "<Figure size 640x480 with 1 Axes>"
            ],
            "image/png": "[encoded data removed]"
          },
          "metadata": {}
        }
      ],
      "metadata": {
        "datalore": {
          "node_id": "CzEcX2DJmocDay5rdTsr17",
          "type": "CODE",
          "hide_input_from_viewers": true,
          "hide_output_from_viewers": true
        },
        "id": "hY291heckfDV",
        "outputId": "0e21e6d7-7637-4f12-9533-860ae280c7d8",
        "colab": {
          "base_uri": "https://localhost:8080/",
          "height": 432
        }
      }
    },
    {
      "cell_type": "code",
      "source": [
        "# Display a random fake image\n",
        "plt.imshow(fake_images[np.random.randint(0, len(fake_images))])\n",
        "plt.show()"
      ],
      "execution_count": 14,
      "outputs": [
        {
          "output_type": "display_data",
          "data": {
            "text/plain": [
              "<Figure size 640x480 with 1 Axes>"
            ],
            "image/png": "[encoded data removed]"
          },
          "metadata": {}
        }
      ],
      "metadata": {
        "datalore": {
          "node_id": "YXOmkjY7VcIP4fKUnn4pIy",
          "type": "CODE",
          "hide_input_from_viewers": true,
          "hide_output_from_viewers": true
        },
        "id": "n5UobpjlkfDV",
        "outputId": "3fcb51a6-8a9a-4607-a91a-c49a42244c4f",
        "colab": {
          "base_uri": "https://localhost:8080/",
          "height": 432
        }
      }
    },
    {
      "cell_type": "code",
      "source": [
        "# Split images into training and testing sets\n",
        "from sklearn.model_selection import train_test_split\n",
        "\n",
        "X_train, X_test, y_train, y_test = train_test_split(images, np.concatenate((np.ones(len(real_images)), np.zeros(len(fake_images)))), test_size=0.5, random_state=42)\n"
      ],
      "execution_count": 8,
      "outputs": [],
      "metadata": {
        "datalore": {
          "node_id": "B6vS8Pkpf9dfgD7KDdJqGG",
          "type": "CODE",
          "hide_input_from_viewers": true,
          "hide_output_from_viewers": true
        },
        "id": "AznIeZ2vkfDV"
      }
    },
    {
      "cell_type": "code",
      "source": [
        "import os\n",
        "from PIL import Image\n",
        "import numpy as np\n",
        "\n",
        "# Set directory paths\n",
        "real_data_dir = \"/content/drive/MyDrive/Colab Notebooks/Group_Project_Data 2/Group_Project_Data 2 (1)/Group_Project_Data/Train/Real\"\n",
        "fake_data_dir = \"/content/drive/MyDrive/Colab Notebooks/Group_Project_Data 2/Group_Project_Data 2 (1)/Group_Project_Data/Train/Fake\"\n",
        "\n",
        "# Load real images\n",
        "real_images = []\n",
        "if os.path.exists(real_data_dir):\n",
        "    real_files = os.listdir(real_data_dir)\n",
        "    if len(real_files) > 0:\n",
        "        for file in real_files:\n",
        "            if file.endswith(\".jpg\") or file.endswith(\".png\"):  # check if file is an image\n",
        "                img_path = os.path.join(real_data_dir, file)\n",
        "                try:\n",
        "                    img = Image.open(img_path)\n",
        "                    img = np.array(img)\n",
        "                    img = np.expand_dims(img, axis=-1)  # add channel dimension\n",
        "                    real_images.append(img)\n",
        "                except:\n",
        "                    print(f\"Error loading image: {img_path}\")\n",
        "            else:\n",
        "                print(f\"Skipping non-image file: {file}\")\n",
        "else:\n",
        "    print(f\"{real_data_dir} does not exist.\")\n",
        "\n",
        "# Load fake images\n",
        "fake_images = []\n",
        "if os.path.exists(fake_data_dir):\n",
        "    fake_files = os.listdir(fake_data_dir)\n",
        "    if len(fake_files) > 0:\n",
        "        for file in fake_files:\n",
        "            if file.endswith(\".jpg\") or file.endswith(\".png\"):  # check if file is an image\n",
        "                img_path = os.path.join(fake_data_dir, file)\n",
        "                try:\n",
        "                    img = Image.open(img_path)\n",
        "                    img = np.array(img)\n",
        "                    img = np.expand_dims(img, axis=-1)  # add channel dimension\n",
        "                    fake_images.append(img)\n",
        "                except:\n",
        "                    print(f\"Error loading image: {img_path}\")\n",
        "            else:\n",
        "                print(f\"Skipping non-image file: {file}\")\n",
        "else:\n",
        "    print(f\"{fake_data_dir} does not exist.\")\n",
        "\n",
        "# Concatenate real and fake images\n",
        "images = np.concatenate((real_images, fake_images))\n",
        "\n",
        "# Split images into training and testing sets\n",
        "from sklearn.model_selection import train_test_split\n",
        "\n",
        "X_train, X_test, y_train, y_test = train_test_split(images, np.concatenate((np.ones(len(real_images)), np.zeros(len(fake_images)))), test_size=0.5, random_state=42)\n",
        "\n",
        "# Create a simple convolutional neural network using Keras\n",
        "import keras\n",
        "from keras.models import Sequential\n",
        "from keras.layers import Dense, Flatten, Conv2D, MaxPooling2D\n",
        "\n",
        "model = Sequential()\n",
        "model.add(Conv2D(32, kernel_size=(3, 3), activation='relu', input_shape=X_train[0].shape))\n",
        "model.add(MaxPooling2D(pool_size=(2, 2)))\n",
        "model.add(Flatten())\n",
        "model.add(Dense(1, activation='sigmoid'))\n",
        "\n",
        "model.compile(loss='binary_crossentropy', optimizer='adam', metrics=['accuracy'])\n",
        "\n",
        "model.fit(X_train, y_train, batch_size=128, epochs=5, validation_data=(X_test, y_test))"
      ],
      "execution_count": 9,
      "outputs": [
        {
          "output_type": "stream",
          "name": "stdout",
          "text": [
            "Skipping non-image file: .DS_Store\n",
            "Skipping non-image file: .DS_Store\n",
            "Epoch 1/5\n",
            "24/24 [==============================] - 12s 467ms/step - loss: 2.2811 - accuracy: 0.8319 - val_loss: 0.1291 - val_accuracy: 0.9780\n",
            "Epoch 2/5\n",
            "24/24 [==============================] - 11s 475ms/step - loss: 0.0080 - accuracy: 0.9977 - val_loss: 0.0078 - val_accuracy: 0.9990\n",
            "Epoch 3/5\n",
            "24/24 [==============================] - 10s 410ms/step - loss: 0.0173 - accuracy: 0.9983 - val_loss: 0.0485 - val_accuracy: 0.9927\n",
            "Epoch 4/5\n",
            "24/24 [==============================] - 9s 371ms/step - loss: 0.0052 - accuracy: 0.9987 - val_loss: 0.0230 - val_accuracy: 0.9970\n",
            "Epoch 5/5\n",
            "24/24 [==============================] - 11s 474ms/step - loss: 0.0023 - accuracy: 0.9993 - val_loss: 0.0117 - val_accuracy: 0.9987\n"
          ]
        },
        {
          "output_type": "execute_result",
          "data": {
            "text/plain": [
              "<keras.callbacks.History at 0x7fa303e7d0c0>"
            ]
          },
          "metadata": {},
          "execution_count": 9
        }
      ],
      "metadata": {
        "datalore": {
          "node_id": "SBHU7VYNzyF2tlLaIfxJ2s",
          "type": "CODE",
          "hide_input_from_viewers": true,
          "hide_output_from_viewers": true
        },
        "id": "Ovcys4jikfDV",
        "outputId": "e808dc99-27b1-406c-bfec-b3774a2e5438",
        "colab": {
          "base_uri": "https://localhost:8080/"
        }
      }
    },
    {
      "cell_type": "code",
      "source": [
        "test_loss, test_accuracy = model.evaluate(X_test, y_test)\n",
        "print(\"Test accuracy:\", test_accuracy) # calculating test accuracy"
      ],
      "execution_count": 10,
      "outputs": [
        {
          "output_type": "stream",
          "name": "stdout",
          "text": [
            "94/94 [==============================] - 2s 21ms/step - loss: 0.0117 - accuracy: 0.9987\n",
            "Test accuracy: 0.998668909072876\n"
          ]
        }
      ],
      "metadata": {
        "datalore": {
          "node_id": "t5U27ujy0isITIoKb4hZXc",
          "type": "CODE",
          "hide_input_from_viewers": true,
          "hide_output_from_viewers": true
        },
        "id": "as-gKxxykfDW",
        "outputId": "d8ebb5b6-b460-45b7-f6c7-bbc13f0c1bc3",
        "colab": {
          "base_uri": "https://localhost:8080/"
        }
      }
    },
    {
      "cell_type": "code",
      "source": [
        "# Make predictions on test set\n",
        "y_pred = model.predict(X_test)\n",
        "\n",
        "# Convert predicted probabilities to binary labels\n",
        "y_pred_binary = np.round(y_pred)\n",
        "\n",
        "# Calculate precision, recall, and F1 score\n",
        "from sklearn.metrics import precision_score, recall_score, f1_score\n",
        "\n",
        "precision = precision_score(y_test, y_pred_binary)\n",
        "recall = recall_score(y_test, y_pred_binary)\n",
        "f1 = f1_score(y_test, y_pred_binary)\n",
        "\n",
        "print(f\"Precision: {precision:.2f}\")\n",
        "print(f\"Recall: {recall:.2f}\")\n",
        "print(f\"F1 score: {f1:.2f}\")"
      ],
      "execution_count": 11,
      "outputs": [
        {
          "output_type": "stream",
          "name": "stdout",
          "text": [
            "94/94 [==============================] - 2s 19ms/step\n",
            "Precision: 1.00\n",
            "Recall: 1.00\n",
            "F1 score: 1.00\n"
          ]
        }
      ],
      "metadata": {
        "datalore": {
          "node_id": "pMJyxT6ijL6NlCo3K6poSs",
          "type": "CODE",
          "hide_input_from_viewers": true,
          "hide_output_from_viewers": true
        },
        "id": "1WQ9-3tVkfDW",
        "outputId": "397b882f-25fa-436a-c4bf-f13ab6da862a",
        "colab": {
          "base_uri": "https://localhost:8080/"
        }
      }
    },
    {
      "cell_type": "code",
      "source": [
        "model.save('Group_X_Model_Trained.h5')"
      ],
      "execution_count": 12,
      "outputs": [],
      "metadata": {
        "datalore": {
          "node_id": "40a8O172BrjaTwwNmXzW48",
          "type": "CODE",
          "hide_input_from_viewers": true,
          "hide_output_from_viewers": true
        },
        "id": "2MbfokBRkfDW"
      }
    },
    {
      "cell_type": "code",
      "source": [
        "import tensorflow as tf\n",
        "\n",
        "loaded_model = tf.keras.models.load_model('Group_X_Model_Trained.h5')\n",
        "loaded_model.summary()"
      ],
      "execution_count": 13,
      "outputs": [
        {
          "output_type": "stream",
          "name": "stdout",
          "text": [
            "Model: \"sequential_1\"\n",
            "_________________________________________________________________\n",
            " Layer (type)                Output Shape              Param #   \n",
            "=================================================================\n",
            " conv2d (Conv2D)             (None, 62, 62, 32)        320       \n",
            "                                                                 \n",
            " max_pooling2d (MaxPooling2D  (None, 31, 31, 32)       0         \n",
            " )                                                               \n",
            "                                                                 \n",
            " flatten (Flatten)           (None, 30752)             0         \n",
            "                                                                 \n",
            " dense_1 (Dense)             (None, 1)                 30753     \n",
            "                                                                 \n",
            "=================================================================\n",
            "Total params: 31,073\n",
            "Trainable params: 31,073\n",
            "Non-trainable params: 0\n",
            "_________________________________________________________________\n"
          ]
        }
      ],
      "metadata": {
        "datalore": {
          "node_id": "7A9xlahJGD4ZkIgSfBwdPG",
          "type": "CODE",
          "hide_input_from_viewers": true,
          "hide_output_from_viewers": true
        },
        "id": "tZmTdlvLkfDW",
        "outputId": "aa94be85-1060-4d75-9334-4dc8e8eb4267",
        "colab": {
          "base_uri": "https://localhost:8080/"
        }
      }
    }
  ],
  "metadata": {
    "kernelspec": {
      "display_name": "Python",
      "language": "python",
      "name": "python"
    },
    "datalore": {
      "computation_mode": "JUPYTER",
      "package_manager": "pip",
      "base_environment": "default",
      "packages": [],
      "report_row_ids": [
        "evFmD7yWyTGCkqizX9yhO1",
        "1Gu0uCTea1YJDPBJoc1tnv",
        "22awGJT2dCH2xOQT5DXkxA",
        "LhgjWiTFcUdzzKRjbd7pIQ",
        "bChbO7EVye7vjpeNYG6XNI",
        "S0LpVtNZgvAR6uyjdUsSwT"
      ],
      "version": 2
    },
    "colab": {
      "provenance": []
    }
  },
  "nbformat": 4,
  "nbformat_minor": 0
}